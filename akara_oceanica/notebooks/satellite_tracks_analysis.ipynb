{
 "cells": [
  {
   "cell_type": "markdown",
   "id": "351ed114",
   "metadata": {},
   "source": [
    "# 🌊 Análise de Passagens de Satélites - Ciclone Akará 🌀\n",
    "\n",
    "Este notebook demonstra como carregar e visualizar as trajetórias dos satélites durante o evento Akará."
   ]
  },
  {
   "cell_type": "code",
   "execution_count": null,
   "id": "82341fa6",
   "metadata": {},
   "outputs": [],
   "source": [
    "# Imports\n",
    "import sys\n",
    "sys.path.append('../scripts')\n",
    "\n",
    "import numpy as np\n",
    "import xarray as xr\n",
    "import matplotlib.pyplot as plt\n",
    "import cartopy.crs as ccrs\n",
    "import cartopy.feature as cfeature\n",
    "from pathlib import Path\n",
    "from datetime import datetime\n",
    "\n",
    "from config import START_DATE, END_DATE, BBOX, DATASETS\n",
    "\n",
    "print(\"✅ Imports concluídos!\")"
   ]
  },
  {
   "cell_type": "markdown",
   "id": "b5f3064a",
   "metadata": {},
   "source": [
    "## 📡 Carregar Dados dos Satélites"
   ]
  },
  {
   "cell_type": "code",
   "execution_count": null,
   "id": "fbfe0635",
   "metadata": {},
   "outputs": [],
   "source": [
    "def load_satellite_data(data_dir='../data'):\n",
    "    \"\"\"Carrega dados de todos os satélites disponíveis\"\"\"\n",
    "    data_path = Path(data_dir)\n",
    "    satellite_data = {}\n",
    "    \n",
    "    print(\"🔍 Procurando dados de satélites...\\n\")\n",
    "    \n",
    "    for satellite in DATASETS.keys():\n",
    "        satellite_dir = data_path / satellite.replace('/', '_')\n",
    "        \n",
    "        if not satellite_dir.exists():\n",
    "            print(f\"⚠️  {satellite}: diretório não encontrado\")\n",
    "            continue\n",
    "        \n",
    "        nc_files = list(satellite_dir.glob('*.nc'))\n",
    "        \n",
    "        if not nc_files:\n",
    "            print(f\"⚠️  {satellite}: sem arquivos NetCDF\")\n",
    "            continue\n",
    "        \n",
    "        try:\n",
    "            ds = xr.open_dataset(nc_files[0])\n",
    "            \n",
    "            if len(ds.latitude) > 0:\n",
    "                satellite_data[satellite] = ds\n",
    "                print(f\"✅ {satellite}: {len(ds.latitude)} pontos\")\n",
    "            else:\n",
    "                ds.close()\n",
    "                \n",
    "        except Exception as e:\n",
    "            print(f\"❌ {satellite}: erro ao carregar\")\n",
    "    \n",
    "    return satellite_data\n",
    "\n",
    "# Carregar dados\n",
    "satellite_data = load_satellite_data()\n",
    "print(f\"\\n📊 Total: {len(satellite_data)} satélites com dados\")"
   ]
  },
  {
   "cell_type": "markdown",
   "id": "46f8846a",
   "metadata": {},
   "source": [
    "## 📊 Explorar Dados de um Satélite"
   ]
  },
  {
   "cell_type": "code",
   "execution_count": null,
   "id": "ad1e071d",
   "metadata": {},
   "outputs": [],
   "source": [
    "# Selecionar primeiro satélite disponível\n",
    "if satellite_data:\n",
    "    sat_name = list(satellite_data.keys())[0]\n",
    "    ds = satellite_data[sat_name]\n",
    "    \n",
    "    print(f\"🛰️  Explorando: {sat_name}\\n\")\n",
    "    print(\"Variáveis disponíveis:\")\n",
    "    print(list(ds.variables.keys()))\n",
    "    print(\"\\nDimensões:\")\n",
    "    print(ds.dims)\n",
    "    print(\"\\nResumo do dataset:\")\n",
    "    display(ds)\n",
    "else:\n",
    "    print(\"❌ Nenhum dado disponível. Execute o download primeiro!\")"
   ]
  },
  {
   "cell_type": "markdown",
   "id": "c128bf56",
   "metadata": {},
   "source": [
    "## 🗺️ Plotar Trajetórias dos Satélites"
   ]
  },
  {
   "cell_type": "code",
   "execution_count": null,
   "id": "e939b258",
   "metadata": {},
   "outputs": [],
   "source": [
    "# Cores para cada satélite\n",
    "SATELLITE_COLORS = {\n",
    "    'CFOSAT': '#00FFFF',\n",
    "    'CryoSat-2': '#FF1493',\n",
    "    'HaiYang-2B': '#FFD700',\n",
    "    'HaiYang-2C': '#FF8C00',\n",
    "    'Jason-3': '#00FF00',\n",
    "    'Saral/AltiKa': '#FF0000',\n",
    "    'Sentinel-3A': '#FFFF00',\n",
    "    'Sentinel-3B': '#00CED1',\n",
    "    'Sentinel-6A': '#9370DB',\n",
    "    'SWOT_nadir': '#FF69B4',\n",
    "}\n",
    "\n",
    "# Criar figura\n",
    "fig = plt.figure(figsize=(14, 10))\n",
    "ax = plt.axes(projection=ccrs.PlateCarree())\n",
    "\n",
    "# Limites do mapa\n",
    "margin = 2.0\n",
    "ax.set_extent([\n",
    "    BBOX['west'] - margin,\n",
    "    BBOX['east'] + margin,\n",
    "    BBOX['south'] - margin,\n",
    "    BBOX['north'] + margin\n",
    "], crs=ccrs.PlateCarree())\n",
    "\n",
    "# Features geográficos\n",
    "ax.add_feature(cfeature.LAND, facecolor='lightgray', edgecolor='black', linewidth=0.5)\n",
    "ax.add_feature(cfeature.OCEAN, facecolor='lightblue', alpha=0.5)\n",
    "ax.add_feature(cfeature.COASTLINE, linewidth=0.8)\n",
    "ax.add_feature(cfeature.BORDERS, linewidth=0.5, linestyle='--', alpha=0.7)\n",
    "\n",
    "# Grid\n",
    "gl = ax.gridlines(draw_labels=True, linewidth=0.5, color='gray', alpha=0.5, linestyle='--')\n",
    "gl.top_labels = False\n",
    "gl.right_labels = False\n",
    "\n",
    "# Caixa da região de interesse\n",
    "box_lons = [BBOX['west'], BBOX['east'], BBOX['east'], BBOX['west'], BBOX['west']]\n",
    "box_lats = [BBOX['south'], BBOX['south'], BBOX['north'], BBOX['north'], BBOX['south']]\n",
    "ax.plot(box_lons, box_lats, 'k--', linewidth=2, transform=ccrs.PlateCarree(), \n",
    "        label='Região de Interesse', alpha=0.8)\n",
    "\n",
    "# Plotar cada satélite\n",
    "for satellite, ds in satellite_data.items():\n",
    "    color = SATELLITE_COLORS.get(satellite, '#FFFFFF')\n",
    "    \n",
    "    lons = ds.longitude.values\n",
    "    lats = ds.latitude.values\n",
    "    \n",
    "    # Remover NaNs\n",
    "    valid_mask = ~(np.isnan(lons) | np.isnan(lats))\n",
    "    lons = lons[valid_mask]\n",
    "    lats = lats[valid_mask]\n",
    "    \n",
    "    if len(lons) > 0:\n",
    "        ax.scatter(lons, lats, c=color, s=30, alpha=0.7, \n",
    "                  transform=ccrs.PlateCarree(), \n",
    "                  edgecolors='black', linewidth=0.5,\n",
    "                  label=satellite, zorder=5)\n",
    "\n",
    "# Título e legenda\n",
    "plt.title(f'🛰️ Passagens de Satélites - Ciclone Akará 🌀\\n{START_DATE} a {END_DATE}', \n",
    "          fontsize=16, fontweight='bold', pad=20)\n",
    "ax.legend(loc='upper left', bbox_to_anchor=(1.02, 1), \n",
    "         fontsize=10, framealpha=0.9, \n",
    "         title='Satélites', title_fontsize=11)\n",
    "\n",
    "plt.tight_layout()\n",
    "plt.show()\n",
    "\n",
    "print(\"\\n✅ Figura gerada!\")"
   ]
  },
  {
   "cell_type": "markdown",
   "id": "2e32755f",
   "metadata": {},
   "source": [
    "## 📈 Estatísticas de Altura de Ondas"
   ]
  },
  {
   "cell_type": "code",
   "execution_count": null,
   "id": "188523bf",
   "metadata": {},
   "outputs": [],
   "source": [
    "# Coletar estatísticas de altura de ondas\n",
    "stats = {}\n",
    "\n",
    "for satellite, ds in satellite_data.items():\n",
    "    if 'VAVH' in ds.variables:\n",
    "        wave_heights = ds.VAVH.values\n",
    "        wave_heights = wave_heights[~np.isnan(wave_heights)]\n",
    "        \n",
    "        if len(wave_heights) > 0:\n",
    "            stats[satellite] = {\n",
    "                'mean': np.mean(wave_heights),\n",
    "                'max': np.max(wave_heights),\n",
    "                'min': np.min(wave_heights),\n",
    "                'std': np.std(wave_heights),\n",
    "                'n_points': len(wave_heights)\n",
    "            }\n",
    "\n",
    "# Exibir estatísticas\n",
    "if stats:\n",
    "    print(\"📊 Estatísticas de Altura Significativa de Onda (m)\\n\")\n",
    "    print(f\"{'Satélite':<15} {'N_Pontos':<10} {'Média':<8} {'Máx':<8} {'Mín':<8} {'Desvio'}\")\n",
    "    print(\"-\" * 70)\n",
    "    \n",
    "    for sat, st in stats.items():\n",
    "        print(f\"{sat:<15} {st['n_points']:<10} {st['mean']:<8.2f} {st['max']:<8.2f} {st['min']:<8.2f} {st['std']:.2f}\")\n",
    "else:\n",
    "    print(\"❌ Nenhuma estatística disponível\")"
   ]
  },
  {
   "cell_type": "markdown",
   "id": "ef50c773",
   "metadata": {},
   "source": [
    "## 🎨 Gráfico de Distribuição de Altura de Ondas"
   ]
  },
  {
   "cell_type": "code",
   "execution_count": null,
   "id": "d8ec4d0e",
   "metadata": {},
   "outputs": [],
   "source": [
    "# Histograma de altura de ondas por satélite\n",
    "fig, ax = plt.subplots(figsize=(12, 6))\n",
    "\n",
    "for satellite, ds in satellite_data.items():\n",
    "    if 'VAVH' in ds.variables:\n",
    "        wave_heights = ds.VAVH.values\n",
    "        wave_heights = wave_heights[~np.isnan(wave_heights)]\n",
    "        \n",
    "        if len(wave_heights) > 0:\n",
    "            color = SATELLITE_COLORS.get(satellite, '#FFFFFF')\n",
    "            ax.hist(wave_heights, bins=30, alpha=0.5, label=satellite, \n",
    "                   color=color, edgecolor='black', linewidth=0.5)\n",
    "\n",
    "ax.set_xlabel('Altura Significativa de Onda (m)', fontsize=12, fontweight='bold')\n",
    "ax.set_ylabel('Frequência', fontsize=12, fontweight='bold')\n",
    "ax.set_title('Distribuição de Altura de Ondas por Satélite', fontsize=14, fontweight='bold')\n",
    "ax.legend(loc='best', fontsize=9)\n",
    "ax.grid(True, alpha=0.3)\n",
    "\n",
    "plt.tight_layout()\n",
    "plt.show()\n",
    "\n",
    "print(\"✅ Histograma gerado!\")"
   ]
  },
  {
   "cell_type": "markdown",
   "id": "6a06db22",
   "metadata": {},
   "source": [
    "## 💾 Salvar Figuras"
   ]
  },
  {
   "cell_type": "code",
   "execution_count": null,
   "id": "46afe448",
   "metadata": {},
   "outputs": [],
   "source": [
    "# Salvar as figuras geradas\n",
    "# (Re-execute as células de plotagem acima se necessário)\n",
    "\n",
    "output_dir = Path('../figures')\n",
    "output_dir.mkdir(exist_ok=True)\n",
    "\n",
    "print(\"💾 Para salvar as figuras, execute as células de plotagem\")\n",
    "print(\"   e adicione plt.savefig() antes de plt.show()\")\n",
    "print(f\"\\n📁 Diretório de saída: {output_dir.absolute()}\")"
   ]
  },
  {
   "cell_type": "markdown",
   "id": "4ebc1c1d",
   "metadata": {},
   "source": [
    "## 🧹 Cleanup"
   ]
  },
  {
   "cell_type": "code",
   "execution_count": null,
   "id": "5e9625de",
   "metadata": {},
   "outputs": [],
   "source": [
    "# Fechar datasets\n",
    "for ds in satellite_data.values():\n",
    "    ds.close()\n",
    "\n",
    "print(\"✅ Datasets fechados!\")"
   ]
  }
 ],
 "metadata": {
  "language_info": {
   "name": "python"
  }
 },
 "nbformat": 4,
 "nbformat_minor": 5
}
